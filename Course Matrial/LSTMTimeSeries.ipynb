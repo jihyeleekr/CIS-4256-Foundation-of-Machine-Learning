{
 "cells": [
  {
   "cell_type": "markdown",
   "metadata": {
    "colab_type": "text"
   },
   "source": [
    "# Deep learning for timeseries"
   ]
  },
  {
   "cell_type": "markdown",
   "metadata": {},
   "source": [
    "### Reference: Deep Learning with Python, 2nd Edition Chapter 11"
   ]
  },
  {
   "cell_type": "code",
   "execution_count": 1,
   "metadata": {},
   "outputs": [],
   "source": [
    "import os\n",
    "import pandas as pd\n",
    "import numpy as np\n",
    "import matplotlib.pyplot as plt\n",
    "import seaborn as sns\n",
    "import warnings\n",
    "warnings.filterwarnings('ignore')"
   ]
  },
  {
   "cell_type": "code",
   "execution_count": 2,
   "metadata": {},
   "outputs": [],
   "source": [
    "from tensorflow import keras\n",
    "from tensorflow.keras import layers"
   ]
  },
  {
   "cell_type": "markdown",
   "metadata": {},
   "source": [
    "***Download climate data***"
   ]
  },
  {
   "cell_type": "code",
   "execution_count": 3,
   "metadata": {},
   "outputs": [],
   "source": [
    "#!wget https://s3.amazonaws.com/keras-datasets/jena_climate_2009_2016.csv.zip\n",
    "#unzip jena_climate_2009_2016.csv.zip"
   ]
  },
  {
   "cell_type": "code",
   "execution_count": 4,
   "metadata": {
    "colab_type": "code"
   },
   "outputs": [
    {
     "data": {
      "text/html": [
       "<div>\n",
       "<style scoped>\n",
       "    .dataframe tbody tr th:only-of-type {\n",
       "        vertical-align: middle;\n",
       "    }\n",
       "\n",
       "    .dataframe tbody tr th {\n",
       "        vertical-align: top;\n",
       "    }\n",
       "\n",
       "    .dataframe thead th {\n",
       "        text-align: right;\n",
       "    }\n",
       "</style>\n",
       "<table border=\"1\" class=\"dataframe\">\n",
       "  <thead>\n",
       "    <tr style=\"text-align: right;\">\n",
       "      <th></th>\n",
       "      <th>Date Time</th>\n",
       "      <th>p (mbar)</th>\n",
       "      <th>T (degC)</th>\n",
       "      <th>Tpot (K)</th>\n",
       "      <th>Tdew (degC)</th>\n",
       "      <th>rh (%)</th>\n",
       "      <th>VPmax (mbar)</th>\n",
       "      <th>VPact (mbar)</th>\n",
       "      <th>VPdef (mbar)</th>\n",
       "      <th>sh (g/kg)</th>\n",
       "      <th>H2OC (mmol/mol)</th>\n",
       "      <th>rho (g/m**3)</th>\n",
       "      <th>wv (m/s)</th>\n",
       "      <th>max. wv (m/s)</th>\n",
       "      <th>wd (deg)</th>\n",
       "    </tr>\n",
       "  </thead>\n",
       "  <tbody>\n",
       "    <tr>\n",
       "      <th>0</th>\n",
       "      <td>01.01.2009 00:10:00</td>\n",
       "      <td>996.52</td>\n",
       "      <td>-8.02</td>\n",
       "      <td>265.40</td>\n",
       "      <td>-8.90</td>\n",
       "      <td>93.3</td>\n",
       "      <td>3.33</td>\n",
       "      <td>3.11</td>\n",
       "      <td>0.22</td>\n",
       "      <td>1.94</td>\n",
       "      <td>3.12</td>\n",
       "      <td>1307.75</td>\n",
       "      <td>1.03</td>\n",
       "      <td>1.75</td>\n",
       "      <td>152.3</td>\n",
       "    </tr>\n",
       "    <tr>\n",
       "      <th>1</th>\n",
       "      <td>01.01.2009 00:20:00</td>\n",
       "      <td>996.57</td>\n",
       "      <td>-8.41</td>\n",
       "      <td>265.01</td>\n",
       "      <td>-9.28</td>\n",
       "      <td>93.4</td>\n",
       "      <td>3.23</td>\n",
       "      <td>3.02</td>\n",
       "      <td>0.21</td>\n",
       "      <td>1.89</td>\n",
       "      <td>3.03</td>\n",
       "      <td>1309.80</td>\n",
       "      <td>0.72</td>\n",
       "      <td>1.50</td>\n",
       "      <td>136.1</td>\n",
       "    </tr>\n",
       "    <tr>\n",
       "      <th>2</th>\n",
       "      <td>01.01.2009 00:30:00</td>\n",
       "      <td>996.53</td>\n",
       "      <td>-8.51</td>\n",
       "      <td>264.91</td>\n",
       "      <td>-9.31</td>\n",
       "      <td>93.9</td>\n",
       "      <td>3.21</td>\n",
       "      <td>3.01</td>\n",
       "      <td>0.20</td>\n",
       "      <td>1.88</td>\n",
       "      <td>3.02</td>\n",
       "      <td>1310.24</td>\n",
       "      <td>0.19</td>\n",
       "      <td>0.63</td>\n",
       "      <td>171.6</td>\n",
       "    </tr>\n",
       "    <tr>\n",
       "      <th>3</th>\n",
       "      <td>01.01.2009 00:40:00</td>\n",
       "      <td>996.51</td>\n",
       "      <td>-8.31</td>\n",
       "      <td>265.12</td>\n",
       "      <td>-9.07</td>\n",
       "      <td>94.2</td>\n",
       "      <td>3.26</td>\n",
       "      <td>3.07</td>\n",
       "      <td>0.19</td>\n",
       "      <td>1.92</td>\n",
       "      <td>3.08</td>\n",
       "      <td>1309.19</td>\n",
       "      <td>0.34</td>\n",
       "      <td>0.50</td>\n",
       "      <td>198.0</td>\n",
       "    </tr>\n",
       "    <tr>\n",
       "      <th>4</th>\n",
       "      <td>01.01.2009 00:50:00</td>\n",
       "      <td>996.51</td>\n",
       "      <td>-8.27</td>\n",
       "      <td>265.15</td>\n",
       "      <td>-9.04</td>\n",
       "      <td>94.1</td>\n",
       "      <td>3.27</td>\n",
       "      <td>3.08</td>\n",
       "      <td>0.19</td>\n",
       "      <td>1.92</td>\n",
       "      <td>3.09</td>\n",
       "      <td>1309.00</td>\n",
       "      <td>0.32</td>\n",
       "      <td>0.63</td>\n",
       "      <td>214.3</td>\n",
       "    </tr>\n",
       "  </tbody>\n",
       "</table>\n",
       "</div>"
      ],
      "text/plain": [
       "             Date Time  p (mbar)  T (degC)  Tpot (K)  Tdew (degC)  rh (%)  \\\n",
       "0  01.01.2009 00:10:00    996.52     -8.02    265.40        -8.90    93.3   \n",
       "1  01.01.2009 00:20:00    996.57     -8.41    265.01        -9.28    93.4   \n",
       "2  01.01.2009 00:30:00    996.53     -8.51    264.91        -9.31    93.9   \n",
       "3  01.01.2009 00:40:00    996.51     -8.31    265.12        -9.07    94.2   \n",
       "4  01.01.2009 00:50:00    996.51     -8.27    265.15        -9.04    94.1   \n",
       "\n",
       "   VPmax (mbar)  VPact (mbar)  VPdef (mbar)  sh (g/kg)  H2OC (mmol/mol)  \\\n",
       "0          3.33          3.11          0.22       1.94             3.12   \n",
       "1          3.23          3.02          0.21       1.89             3.03   \n",
       "2          3.21          3.01          0.20       1.88             3.02   \n",
       "3          3.26          3.07          0.19       1.92             3.08   \n",
       "4          3.27          3.08          0.19       1.92             3.09   \n",
       "\n",
       "   rho (g/m**3)  wv (m/s)  max. wv (m/s)  wd (deg)  \n",
       "0       1307.75      1.03           1.75     152.3  \n",
       "1       1309.80      0.72           1.50     136.1  \n",
       "2       1310.24      0.19           0.63     171.6  \n",
       "3       1309.19      0.34           0.50     198.0  \n",
       "4       1309.00      0.32           0.63     214.3  "
      ]
     },
     "execution_count": 4,
     "metadata": {},
     "output_type": "execute_result"
    }
   ],
   "source": [
    "df = pd.read_csv(\"data/jena_climate_2009_2016.csv\")\n",
    "df.head()"
   ]
  },
  {
   "cell_type": "code",
   "execution_count": 5,
   "metadata": {},
   "outputs": [
    {
     "name": "stdout",
     "output_type": "stream",
     "text": [
      "(420451, 15)\n"
     ]
    },
    {
     "data": {
      "text/html": [
       "<div>\n",
       "<style scoped>\n",
       "    .dataframe tbody tr th:only-of-type {\n",
       "        vertical-align: middle;\n",
       "    }\n",
       "\n",
       "    .dataframe tbody tr th {\n",
       "        vertical-align: top;\n",
       "    }\n",
       "\n",
       "    .dataframe thead th {\n",
       "        text-align: right;\n",
       "    }\n",
       "</style>\n",
       "<table border=\"1\" class=\"dataframe\">\n",
       "  <thead>\n",
       "    <tr style=\"text-align: right;\">\n",
       "      <th></th>\n",
       "      <th>p (mbar)</th>\n",
       "      <th>T (degC)</th>\n",
       "      <th>Tpot (K)</th>\n",
       "      <th>Tdew (degC)</th>\n",
       "      <th>rh (%)</th>\n",
       "      <th>VPmax (mbar)</th>\n",
       "      <th>VPact (mbar)</th>\n",
       "      <th>VPdef (mbar)</th>\n",
       "      <th>sh (g/kg)</th>\n",
       "      <th>H2OC (mmol/mol)</th>\n",
       "      <th>rho (g/m**3)</th>\n",
       "      <th>wv (m/s)</th>\n",
       "      <th>max. wv (m/s)</th>\n",
       "      <th>wd (deg)</th>\n",
       "    </tr>\n",
       "  </thead>\n",
       "  <tbody>\n",
       "    <tr>\n",
       "      <th>count</th>\n",
       "      <td>420451.000000</td>\n",
       "      <td>420451.000000</td>\n",
       "      <td>420451.000000</td>\n",
       "      <td>420451.000000</td>\n",
       "      <td>420451.000000</td>\n",
       "      <td>420451.000000</td>\n",
       "      <td>420451.000000</td>\n",
       "      <td>420451.000000</td>\n",
       "      <td>420451.000000</td>\n",
       "      <td>420451.000000</td>\n",
       "      <td>420451.000000</td>\n",
       "      <td>420451.000000</td>\n",
       "      <td>420451.000000</td>\n",
       "      <td>420451.000000</td>\n",
       "    </tr>\n",
       "    <tr>\n",
       "      <th>mean</th>\n",
       "      <td>989.212508</td>\n",
       "      <td>9.448567</td>\n",
       "      <td>283.491182</td>\n",
       "      <td>4.954011</td>\n",
       "      <td>76.007045</td>\n",
       "      <td>13.575089</td>\n",
       "      <td>9.532524</td>\n",
       "      <td>4.042483</td>\n",
       "      <td>6.021630</td>\n",
       "      <td>9.638982</td>\n",
       "      <td>1216.069883</td>\n",
       "      <td>2.130309</td>\n",
       "      <td>3.532381</td>\n",
       "      <td>174.726164</td>\n",
       "    </tr>\n",
       "    <tr>\n",
       "      <th>std</th>\n",
       "      <td>8.359454</td>\n",
       "      <td>8.423685</td>\n",
       "      <td>8.504820</td>\n",
       "      <td>6.730411</td>\n",
       "      <td>16.477126</td>\n",
       "      <td>7.739481</td>\n",
       "      <td>4.183895</td>\n",
       "      <td>4.897270</td>\n",
       "      <td>2.655973</td>\n",
       "      <td>4.235130</td>\n",
       "      <td>39.977065</td>\n",
       "      <td>1.541830</td>\n",
       "      <td>2.340482</td>\n",
       "      <td>86.675965</td>\n",
       "    </tr>\n",
       "    <tr>\n",
       "      <th>min</th>\n",
       "      <td>913.600000</td>\n",
       "      <td>-23.010000</td>\n",
       "      <td>250.600000</td>\n",
       "      <td>-25.010000</td>\n",
       "      <td>12.950000</td>\n",
       "      <td>0.950000</td>\n",
       "      <td>0.790000</td>\n",
       "      <td>0.000000</td>\n",
       "      <td>0.500000</td>\n",
       "      <td>0.800000</td>\n",
       "      <td>1059.450000</td>\n",
       "      <td>0.000000</td>\n",
       "      <td>0.000000</td>\n",
       "      <td>0.000000</td>\n",
       "    </tr>\n",
       "    <tr>\n",
       "      <th>25%</th>\n",
       "      <td>984.200000</td>\n",
       "      <td>3.360000</td>\n",
       "      <td>277.430000</td>\n",
       "      <td>0.240000</td>\n",
       "      <td>65.210000</td>\n",
       "      <td>7.780000</td>\n",
       "      <td>6.210000</td>\n",
       "      <td>0.870000</td>\n",
       "      <td>3.920000</td>\n",
       "      <td>6.290000</td>\n",
       "      <td>1187.490000</td>\n",
       "      <td>0.990000</td>\n",
       "      <td>1.760000</td>\n",
       "      <td>124.800000</td>\n",
       "    </tr>\n",
       "    <tr>\n",
       "      <th>50%</th>\n",
       "      <td>989.570000</td>\n",
       "      <td>9.410000</td>\n",
       "      <td>283.460000</td>\n",
       "      <td>5.210000</td>\n",
       "      <td>79.300000</td>\n",
       "      <td>11.820000</td>\n",
       "      <td>8.860000</td>\n",
       "      <td>2.190000</td>\n",
       "      <td>5.590000</td>\n",
       "      <td>8.960000</td>\n",
       "      <td>1213.800000</td>\n",
       "      <td>1.760000</td>\n",
       "      <td>2.960000</td>\n",
       "      <td>198.100000</td>\n",
       "    </tr>\n",
       "    <tr>\n",
       "      <th>75%</th>\n",
       "      <td>994.720000</td>\n",
       "      <td>15.470000</td>\n",
       "      <td>289.530000</td>\n",
       "      <td>10.070000</td>\n",
       "      <td>89.400000</td>\n",
       "      <td>17.600000</td>\n",
       "      <td>12.350000</td>\n",
       "      <td>5.300000</td>\n",
       "      <td>7.800000</td>\n",
       "      <td>12.480000</td>\n",
       "      <td>1242.770000</td>\n",
       "      <td>2.860000</td>\n",
       "      <td>4.740000</td>\n",
       "      <td>234.100000</td>\n",
       "    </tr>\n",
       "    <tr>\n",
       "      <th>max</th>\n",
       "      <td>1015.350000</td>\n",
       "      <td>37.280000</td>\n",
       "      <td>311.340000</td>\n",
       "      <td>23.110000</td>\n",
       "      <td>100.000000</td>\n",
       "      <td>63.770000</td>\n",
       "      <td>28.320000</td>\n",
       "      <td>46.010000</td>\n",
       "      <td>18.130000</td>\n",
       "      <td>28.820000</td>\n",
       "      <td>1393.540000</td>\n",
       "      <td>14.630000</td>\n",
       "      <td>23.500000</td>\n",
       "      <td>360.000000</td>\n",
       "    </tr>\n",
       "  </tbody>\n",
       "</table>\n",
       "</div>"
      ],
      "text/plain": [
       "            p (mbar)       T (degC)       Tpot (K)    Tdew (degC)  \\\n",
       "count  420451.000000  420451.000000  420451.000000  420451.000000   \n",
       "mean      989.212508       9.448567     283.491182       4.954011   \n",
       "std         8.359454       8.423685       8.504820       6.730411   \n",
       "min       913.600000     -23.010000     250.600000     -25.010000   \n",
       "25%       984.200000       3.360000     277.430000       0.240000   \n",
       "50%       989.570000       9.410000     283.460000       5.210000   \n",
       "75%       994.720000      15.470000     289.530000      10.070000   \n",
       "max      1015.350000      37.280000     311.340000      23.110000   \n",
       "\n",
       "              rh (%)   VPmax (mbar)   VPact (mbar)   VPdef (mbar)  \\\n",
       "count  420451.000000  420451.000000  420451.000000  420451.000000   \n",
       "mean       76.007045      13.575089       9.532524       4.042483   \n",
       "std        16.477126       7.739481       4.183895       4.897270   \n",
       "min        12.950000       0.950000       0.790000       0.000000   \n",
       "25%        65.210000       7.780000       6.210000       0.870000   \n",
       "50%        79.300000      11.820000       8.860000       2.190000   \n",
       "75%        89.400000      17.600000      12.350000       5.300000   \n",
       "max       100.000000      63.770000      28.320000      46.010000   \n",
       "\n",
       "           sh (g/kg)  H2OC (mmol/mol)   rho (g/m**3)       wv (m/s)  \\\n",
       "count  420451.000000    420451.000000  420451.000000  420451.000000   \n",
       "mean        6.021630         9.638982    1216.069883       2.130309   \n",
       "std         2.655973         4.235130      39.977065       1.541830   \n",
       "min         0.500000         0.800000    1059.450000       0.000000   \n",
       "25%         3.920000         6.290000    1187.490000       0.990000   \n",
       "50%         5.590000         8.960000    1213.800000       1.760000   \n",
       "75%         7.800000        12.480000    1242.770000       2.860000   \n",
       "max        18.130000        28.820000    1393.540000      14.630000   \n",
       "\n",
       "       max. wv (m/s)       wd (deg)  \n",
       "count  420451.000000  420451.000000  \n",
       "mean        3.532381     174.726164  \n",
       "std         2.340482      86.675965  \n",
       "min         0.000000       0.000000  \n",
       "25%         1.760000     124.800000  \n",
       "50%         2.960000     198.100000  \n",
       "75%         4.740000     234.100000  \n",
       "max        23.500000     360.000000  "
      ]
     },
     "execution_count": 5,
     "metadata": {},
     "output_type": "execute_result"
    }
   ],
   "source": [
    "print(df.shape)\n",
    "df.describe()"
   ]
  },
  {
   "cell_type": "code",
   "execution_count": 6,
   "metadata": {},
   "outputs": [
    {
     "data": {
      "text/plain": [
       "Index(['Date Time', 'p (mbar)', 'T (degC)', 'Tpot (K)', 'Tdew (degC)',\n",
       "       'rh (%)', 'VPmax (mbar)', 'VPact (mbar)', 'VPdef (mbar)', 'sh (g/kg)',\n",
       "       'H2OC (mmol/mol)', 'rho (g/m**3)', 'wv (m/s)', 'max. wv (m/s)',\n",
       "       'wd (deg)'],\n",
       "      dtype='object')"
      ]
     },
     "execution_count": 6,
     "metadata": {},
     "output_type": "execute_result"
    }
   ],
   "source": [
    "df.columns"
   ]
  },
  {
   "cell_type": "code",
   "execution_count": 7,
   "metadata": {},
   "outputs": [
    {
     "data": {
      "text/plain": [
       "(420451, 14)"
      ]
     },
     "execution_count": 7,
     "metadata": {},
     "output_type": "execute_result"
    }
   ],
   "source": [
    "# drop the Date Time column\n",
    "df.drop(['Date Time'], axis=1, inplace = True)\n",
    "df.shape"
   ]
  },
  {
   "cell_type": "code",
   "execution_count": 8,
   "metadata": {},
   "outputs": [],
   "source": [
    "temperature = df['T (degC)'].values"
   ]
  },
  {
   "cell_type": "code",
   "execution_count": 9,
   "metadata": {
    "colab_type": "code"
   },
   "outputs": [
    {
     "data": {
      "text/plain": [
       "[<matplotlib.lines.Line2D at 0x2d3c7175490>]"
      ]
     },
     "execution_count": 9,
     "metadata": {},
     "output_type": "execute_result"
    },
    {
     "data": {
      "image/png": "[encoded data removed]",
      "text/plain": [
       "<Figure size 432x288 with 1 Axes>"
      ]
     },
     "metadata": {
      "needs_background": "light"
     },
     "output_type": "display_data"
    }
   ],
   "source": [
    "from matplotlib import pyplot as plt\n",
    "plt.plot(range(len(temperature)), temperature)"
   ]
  },
  {
   "cell_type": "markdown",
   "metadata": {
    "colab_type": "text"
   },
   "source": [
    "**Plotting the first 10 days of the temperature timeseries**"
   ]
  },
  {
   "cell_type": "code",
   "execution_count": 10,
   "metadata": {
    "colab_type": "code"
   },
   "outputs": [
    {
     "data": {
      "text/plain": [
       "[<matplotlib.lines.Line2D at 0x2d3c74b13d0>]"
      ]
     },
     "execution_count": 10,
     "metadata": {},
     "output_type": "execute_result"
    },
    {
     "data": {
      "image/png": "[encoded data removed]",
      "text/plain": [
       "<Figure size 432x288 with 1 Axes>"
      ]
     },
     "metadata": {
      "needs_background": "light"
     },
     "output_type": "display_data"
    }
   ],
   "source": [
    "plt.plot(range(1440), temperature[:1440])"
   ]
  },
  {
   "cell_type": "markdown",
   "metadata": {
    "colab_type": "text"
   },
   "source": [
    "**Computing the number of samples we'll use for each data split**"
   ]
  },
  {
   "cell_type": "code",
   "execution_count": 11,
   "metadata": {
    "colab_type": "code"
   },
   "outputs": [
    {
     "name": "stdout",
     "output_type": "stream",
     "text": [
      "num_train_samples: 210225\n",
      "num_val_samples: 105112\n",
      "num_test_samples: 105114\n"
     ]
    }
   ],
   "source": [
    "n = df.shape[0]\n",
    "num_train_samples = int(0.5 * n)\n",
    "num_val_samples = int(0.25 * n)\n",
    "num_test_samples = n - num_train_samples - num_val_samples\n",
    "print(\"num_train_samples:\", num_train_samples)\n",
    "print(\"num_val_samples:\", num_val_samples)\n",
    "print(\"num_test_samples:\", num_test_samples)"
   ]
  },
  {
   "cell_type": "markdown",
   "metadata": {
    "colab_type": "text"
   },
   "source": [
    "### Preparing the data"
   ]
  },
  {
   "cell_type": "markdown",
   "metadata": {
    "colab_type": "text"
   },
   "source": [
    "**Normalizing the data**"
   ]
  },
  {
   "cell_type": "code",
   "execution_count": 12,
   "metadata": {
    "colab_type": "code"
   },
   "outputs": [
    {
     "name": "stdout",
     "output_type": "stream",
     "text": [
      "(420451, 14)\n"
     ]
    },
    {
     "data": {
      "text/plain": [
       "numpy.ndarray"
      ]
     },
     "execution_count": 12,
     "metadata": {},
     "output_type": "execute_result"
    }
   ],
   "source": [
    "raw_data = df.values\n",
    "print(raw_data.shape)\n",
    "type(raw_data)"
   ]
  },
  {
   "cell_type": "code",
   "execution_count": 13,
   "metadata": {},
   "outputs": [],
   "source": [
    "mean = raw_data[:num_train_samples].mean(axis=0)\n",
    "raw_data -= mean\n",
    "std = raw_data[:num_train_samples].std(axis=0)\n",
    "raw_data /= std"
   ]
  },
  {
   "cell_type": "code",
   "execution_count": 14,
   "metadata": {
    "colab_type": "code"
   },
   "outputs": [
    {
     "name": "stdout",
     "output_type": "stream",
     "text": [
      "[0, 1, 2] 3\n",
      "[1, 2, 3] 4\n",
      "[2, 3, 4] 5\n",
      "[3, 4, 5] 6\n",
      "[4, 5, 6] 7\n"
     ]
    }
   ],
   "source": [
    "import numpy as np\n",
    "from tensorflow import keras\n",
    "int_sequence = np.arange(10)\n",
    "\n",
    "dummy_dataset = keras.utils.timeseries_dataset_from_array(\n",
    "    data=int_sequence[:-3],\n",
    "    targets=int_sequence[3:],\n",
    "    sequence_length=3,\n",
    "    batch_size=2,\n",
    ")\n",
    "\n",
    "for inputs, targets in dummy_dataset:\n",
    "    for i in range(inputs.shape[0]):\n",
    "        print([int(x) for x in inputs[i]], int(targets[i]))"
   ]
  },
  {
   "cell_type": "code",
   "execution_count": 15,
   "metadata": {},
   "outputs": [
    {
     "data": {
      "text/plain": [
       "array([ 8.50510865,  8.77098361,  8.86560463,  7.08011256, 16.62877917,\n",
       "        7.6012955 ,  4.14689697,  4.76961017,  2.63277288,  4.1996886 ,\n",
       "       42.0392747 ,  1.53358803,  2.32305586, 85.85032063])"
      ]
     },
     "execution_count": 15,
     "metadata": {},
     "output_type": "execute_result"
    }
   ],
   "source": [
    "std"
   ]
  },
  {
   "cell_type": "code",
   "execution_count": 16,
   "metadata": {},
   "outputs": [
    {
     "data": {
      "text/plain": [
       "array([ 988.74929466,    8.82590329,  282.9050718 ,    4.31331863,\n",
       "         75.87275476,   13.14569946,    9.19414209,    3.95148184,\n",
       "          5.81050741,    9.30208943, 1218.45204015,    2.14977462,\n",
       "          3.56048029,  176.4405232 ])"
      ]
     },
     "execution_count": 16,
     "metadata": {},
     "output_type": "execute_result"
    }
   ],
   "source": [
    "mean"
   ]
  },
  {
   "cell_type": "markdown",
   "metadata": {
    "colab_type": "text"
   },
   "source": [
    "**Instantiating datasets for training, validation, and testing**"
   ]
  },
  {
   "cell_type": "code",
   "execution_count": 17,
   "metadata": {},
   "outputs": [
    {
     "data": {
      "text/plain": [
       "858"
      ]
     },
     "execution_count": 17,
     "metadata": {},
     "output_type": "execute_result"
    }
   ],
   "source": [
    "sampling_rate = 6\n",
    "sequence_length = 120\n",
    "delay = sampling_rate * (sequence_length + 24 - 1)\n",
    "batch_size = 256\n",
    "\n",
    "delay"
   ]
  },
  {
   "cell_type": "code",
   "execution_count": 18,
   "metadata": {
    "colab_type": "code"
   },
   "outputs": [],
   "source": [
    "train_dataset = keras.utils.timeseries_dataset_from_array(\n",
    "    raw_data[:-delay],\n",
    "    targets=temperature[delay:],\n",
    "    sampling_rate=sampling_rate,\n",
    "    sequence_length=sequence_length,\n",
    "    shuffle=True,\n",
    "    batch_size=batch_size,\n",
    "    start_index=0,\n",
    "    end_index=num_train_samples)\n",
    "\n",
    "val_dataset = keras.utils.timeseries_dataset_from_array(\n",
    "    raw_data[:-delay],\n",
    "    targets=temperature[delay:],\n",
    "    sampling_rate=sampling_rate,\n",
    "    sequence_length=sequence_length,\n",
    "    shuffle=True,\n",
    "    batch_size=batch_size,\n",
    "    start_index=num_train_samples,\n",
    "    end_index=num_train_samples + num_val_samples)\n",
    "\n",
    "test_dataset = keras.utils.timeseries_dataset_from_array(\n",
    "    raw_data[:-delay],\n",
    "    targets=temperature[delay:],\n",
    "    sampling_rate=sampling_rate,\n",
    "    sequence_length=sequence_length,\n",
    "    shuffle=True,\n",
    "    batch_size=batch_size,\n",
    "    start_index=num_train_samples + num_val_samples)"
   ]
  },
  {
   "cell_type": "markdown",
   "metadata": {
    "colab_type": "text"
   },
   "source": [
    "**Inspecting the output of one of our datasets**"
   ]
  },
  {
   "cell_type": "code",
   "execution_count": 19,
   "metadata": {
    "colab_type": "code"
   },
   "outputs": [
    {
     "name": "stdout",
     "output_type": "stream",
     "text": [
      "samples shape: (256, 120, 14)\n",
      "targets shape: (256,)\n"
     ]
    }
   ],
   "source": [
    "for samples, targets in train_dataset:\n",
    "    print(\"samples shape:\", samples.shape)\n",
    "    print(\"targets shape:\", targets.shape)\n",
    "    break"
   ]
  },
  {
   "cell_type": "markdown",
   "metadata": {
    "colab_type": "text"
   },
   "source": [
    "### A common-sense, non-machine-learning baseline"
   ]
  },
  {
   "cell_type": "markdown",
   "metadata": {
    "colab_type": "text"
   },
   "source": [
    "**Computing the common-sense baseline MAE**"
   ]
  },
  {
   "cell_type": "code",
   "execution_count": 20,
   "metadata": {
    "colab_type": "code"
   },
   "outputs": [
    {
     "name": "stdout",
     "output_type": "stream",
     "text": [
      "Validation MAE: 10.29\n",
      "Test MAE: 10.39\n"
     ]
    }
   ],
   "source": [
    "def evaluate_naive_method(dataset):\n",
    "    total_abs_err = 0.\n",
    "    samples_seen = 0\n",
    "    for samples, targets in dataset:\n",
    "        preds = samples[:, -1, 1] * std[1] + mean[1]\n",
    "        total_abs_err += np.sum(np.abs(preds - targets))\n",
    "        samples_seen += samples.shape[0]\n",
    "    return total_abs_err / samples_seen\n",
    "\n",
    "print(f\"Validation MAE: {evaluate_naive_method(val_dataset):.2f}\")\n",
    "print(f\"Test MAE: {evaluate_naive_method(test_dataset):.2f}\")"
   ]
  },
  {
   "cell_type": "markdown",
   "metadata": {
    "colab_type": "text"
   },
   "source": [
    "### Let's try a basic machine-learning model"
   ]
  },
  {
   "cell_type": "markdown",
   "metadata": {
    "colab_type": "text"
   },
   "source": [
    "**Training and evaluating a densely connected model**"
   ]
  },
  {
   "cell_type": "code",
   "execution_count": 107,
   "metadata": {
    "colab_type": "code"
   },
   "outputs": [
    {
     "name": "stdout",
     "output_type": "stream",
     "text": [
      "Epoch 1/10\n",
      "819/819 [==============================] - 21s 25ms/step - loss: 0.6205 - mae: 0.5351 - val_loss: 0.2631 - val_mae: 0.4192\n",
      "Epoch 2/10\n",
      "819/819 [==============================] - 21s 26ms/step - loss: 0.1528 - mae: 0.3048 - val_loss: 0.1343 - val_mae: 0.2903\n",
      "Epoch 3/10\n",
      "819/819 [==============================] - 21s 25ms/step - loss: 0.1163 - mae: 0.2679 - val_loss: 0.1318 - val_mae: 0.2873\n",
      "Epoch 4/10\n",
      "819/819 [==============================] - 21s 25ms/step - loss: 0.1045 - mae: 0.2540 - val_loss: 0.1573 - val_mae: 0.3133\n",
      "Epoch 5/10\n",
      "819/819 [==============================] - 21s 25ms/step - loss: 0.0983 - mae: 0.2465 - val_loss: 0.1361 - val_mae: 0.2915\n",
      "Epoch 6/10\n",
      "819/819 [==============================] - 20s 25ms/step - loss: 0.0940 - mae: 0.2409 - val_loss: 0.1552 - val_mae: 0.3125\n",
      "Epoch 7/10\n",
      "819/819 [==============================] - 21s 25ms/step - loss: 0.0910 - mae: 0.2372 - val_loss: 0.1461 - val_mae: 0.3023\n",
      "Epoch 8/10\n",
      "819/819 [==============================] - 20s 25ms/step - loss: 0.0889 - mae: 0.2345 - val_loss: 0.1475 - val_mae: 0.3038\n",
      "Epoch 9/10\n",
      "819/819 [==============================] - 21s 25ms/step - loss: 0.0873 - mae: 0.2322 - val_loss: 0.1471 - val_mae: 0.3037\n",
      "Epoch 10/10\n",
      "819/819 [==============================] - 21s 26ms/step - loss: 0.0859 - mae: 0.2303 - val_loss: 0.1478 - val_mae: 0.3045\n",
      "405/405 [==============================] - 8s 20ms/step - loss: 0.1508 - mae: 0.3061\n",
      "Test MAE: 0.31\n"
     ]
    }
   ],
   "source": [
    "from tensorflow import keras\n",
    "from tensorflow.keras import layers\n",
    "\n",
    "inputs = keras.Input(shape=(sequence_length, raw_data.shape[-1]))\n",
    "x = layers.Flatten()(inputs)\n",
    "x = layers.Dense(16, activation=\"relu\")(x)\n",
    "outputs = layers.Dense(1)(x)\n",
    "model = keras.Model(inputs, outputs)\n",
    "\n",
    "callbacks = [\n",
    "    keras.callbacks.ModelCheckpoint(\"jena_dense.keras\",\n",
    "                                    save_best_only=True)\n",
    "]\n",
    "model.compile(optimizer=\"rmsprop\", loss=\"mse\", metrics=[\"mae\"])\n",
    "history = model.fit(train_dataset,\n",
    "                    epochs=10,\n",
    "                    validation_data=val_dataset,\n",
    "                    callbacks=callbacks)\n",
    "\n",
    "model = keras.models.load_model(\"jena_dense.keras\")\n",
    "print(f\"Test MAE: {model.evaluate(test_dataset)[1]:.2f}\")"
   ]
  },
  {
   "cell_type": "markdown",
   "metadata": {
    "colab_type": "text"
   },
   "source": [
    "**Plotting results**"
   ]
  },
  {
   "cell_type": "code",
   "execution_count": 108,
   "metadata": {
    "colab_type": "code"
   },
   "outputs": [
    {
     "data": {
      "image/png": "[encoded data removed]",
      "text/plain": [
       "<Figure size 432x288 with 1 Axes>"
      ]
     },
     "metadata": {
      "needs_background": "light"
     },
     "output_type": "display_data"
    }
   ],
   "source": [
    "import matplotlib.pyplot as plt\n",
    "loss = history.history[\"mae\"]\n",
    "val_loss = history.history[\"val_mae\"]\n",
    "epochs = range(1, len(loss) + 1)\n",
    "plt.figure()\n",
    "plt.plot(epochs, loss, \"bo\", label=\"Training MAE\")\n",
    "plt.plot(epochs, val_loss, \"b\", label=\"Validation MAE\")\n",
    "plt.title(\"Training and validation MAE\")\n",
    "plt.legend()\n",
    "plt.show()"
   ]
  },
  {
   "cell_type": "markdown",
   "metadata": {
    "colab_type": "text"
   },
   "source": [
    "### Let's try a 1D convolutional model"
   ]
  },
  {
   "cell_type": "code",
   "execution_count": 109,
   "metadata": {
    "colab_type": "code"
   },
   "outputs": [
    {
     "name": "stdout",
     "output_type": "stream",
     "text": [
      "Epoch 1/10\n",
      "819/819 [==============================] - 50s 59ms/step - loss: 0.2317 - mae: 0.3795 - val_loss: 0.2093 - val_mae: 0.3569\n",
      "Epoch 2/10\n",
      "819/819 [==============================] - 47s 57ms/step - loss: 0.1704 - mae: 0.3273 - val_loss: 0.2595 - val_mae: 0.4076\n",
      "Epoch 3/10\n",
      "819/819 [==============================] - 43s 52ms/step - loss: 0.1540 - mae: 0.3107 - val_loss: 0.2060 - val_mae: 0.3564\n",
      "Epoch 4/10\n",
      "819/819 [==============================] - 44s 54ms/step - loss: 0.1436 - mae: 0.2995 - val_loss: 0.1937 - val_mae: 0.3465\n",
      "Epoch 5/10\n",
      "819/819 [==============================] - 42s 52ms/step - loss: 0.1366 - mae: 0.2919 - val_loss: 0.1931 - val_mae: 0.3461\n",
      "Epoch 6/10\n",
      "819/819 [==============================] - 45s 54ms/step - loss: 0.1303 - mae: 0.2851 - val_loss: 0.2027 - val_mae: 0.3521\n",
      "Epoch 7/10\n",
      "819/819 [==============================] - 45s 55ms/step - loss: 0.1257 - mae: 0.2799 - val_loss: 0.1995 - val_mae: 0.3498\n",
      "Epoch 8/10\n",
      "819/819 [==============================] - 44s 54ms/step - loss: 0.1217 - mae: 0.2754 - val_loss: 0.2051 - val_mae: 0.3553\n",
      "Epoch 9/10\n",
      "819/819 [==============================] - 45s 55ms/step - loss: 0.1184 - mae: 0.2715 - val_loss: 0.1981 - val_mae: 0.3488\n",
      "Epoch 10/10\n",
      "819/819 [==============================] - 46s 56ms/step - loss: 0.1153 - mae: 0.2682 - val_loss: 0.2199 - val_mae: 0.3711\n",
      "405/405 [==============================] - 9s 22ms/step - loss: 0.2194 - mae: 0.3696\n",
      "Test MAE: 0.37\n"
     ]
    }
   ],
   "source": [
    "inputs = keras.Input(shape=(sequence_length, raw_data.shape[-1]))\n",
    "x = layers.Conv1D(8, 24, activation=\"relu\")(inputs)\n",
    "x = layers.MaxPooling1D(2)(x)\n",
    "x = layers.Conv1D(8, 12, activation=\"relu\")(x)\n",
    "x = layers.MaxPooling1D(2)(x)\n",
    "x = layers.Conv1D(8, 6, activation=\"relu\")(x)\n",
    "x = layers.GlobalAveragePooling1D()(x)\n",
    "outputs = layers.Dense(1)(x)\n",
    "model = keras.Model(inputs, outputs)\n",
    "\n",
    "callbacks = [\n",
    "    keras.callbacks.ModelCheckpoint(\"jena_conv.keras\",\n",
    "                                    save_best_only=True)\n",
    "]\n",
    "model.compile(optimizer=\"rmsprop\", loss=\"mse\", metrics=[\"mae\"])\n",
    "history = model.fit(train_dataset,\n",
    "                    epochs=10,\n",
    "                    validation_data=val_dataset,\n",
    "                    callbacks=callbacks)\n",
    "\n",
    "model = keras.models.load_model(\"jena_conv.keras\")\n",
    "print(f\"Test MAE: {model.evaluate(test_dataset)[1]:.2f}\")"
   ]
  },
  {
   "cell_type": "markdown",
   "metadata": {
    "colab_type": "text"
   },
   "source": [
    "### A first recurrent baseline"
   ]
  },
  {
   "cell_type": "markdown",
   "metadata": {
    "colab_type": "text"
   },
   "source": [
    "**A simple LSTM-based model**"
   ]
  },
  {
   "cell_type": "code",
   "execution_count": 110,
   "metadata": {
    "colab_type": "code"
   },
   "outputs": [
    {
     "name": "stdout",
     "output_type": "stream",
     "text": [
      "Epoch 1/10\n",
      "819/819 [==============================] - 77s 92ms/step - loss: 0.1500 - mae: 0.2980 - val_loss: 0.1166 - val_mae: 0.2658\n",
      "Epoch 2/10\n",
      "819/819 [==============================] - 76s 92ms/step - loss: 0.1181 - mae: 0.2691 - val_loss: 0.1195 - val_mae: 0.2693\n",
      "Epoch 3/10\n",
      "819/819 [==============================] - 80s 98ms/step - loss: 0.1091 - mae: 0.2594 - val_loss: 0.1218 - val_mae: 0.2705\n",
      "Epoch 4/10\n",
      "819/819 [==============================] - 77s 94ms/step - loss: 0.1033 - mae: 0.2525 - val_loss: 0.1255 - val_mae: 0.2742\n",
      "Epoch 5/10\n",
      "819/819 [==============================] - 76s 92ms/step - loss: 0.0985 - mae: 0.2466 - val_loss: 0.1286 - val_mae: 0.2783\n",
      "Epoch 6/10\n",
      "819/819 [==============================] - 79s 96ms/step - loss: 0.0944 - mae: 0.2414 - val_loss: 0.1300 - val_mae: 0.2816\n",
      "Epoch 7/10\n",
      "819/819 [==============================] - 78s 95ms/step - loss: 0.0910 - mae: 0.2366 - val_loss: 0.1354 - val_mae: 0.2880\n",
      "Epoch 8/10\n",
      "819/819 [==============================] - 77s 94ms/step - loss: 0.0883 - mae: 0.2328 - val_loss: 0.1407 - val_mae: 0.2931\n",
      "Epoch 9/10\n",
      "819/819 [==============================] - 80s 97ms/step - loss: 0.0861 - mae: 0.2297 - val_loss: 0.1411 - val_mae: 0.2954\n",
      "Epoch 10/10\n",
      "819/819 [==============================] - 77s 93ms/step - loss: 0.0837 - mae: 0.2264 - val_loss: 0.1409 - val_mae: 0.2945\n",
      "405/405 [==============================] - 19s 43ms/step - loss: 0.1313 - mae: 0.2815\n",
      "Test MAE: 0.28\n"
     ]
    }
   ],
   "source": [
    "inputs = keras.Input(shape=(sequence_length, raw_data.shape[-1]))\n",
    "x = layers.LSTM(16)(inputs)\n",
    "outputs = layers.Dense(1)(x)\n",
    "model = keras.Model(inputs, outputs)\n",
    "\n",
    "callbacks = [\n",
    "    keras.callbacks.ModelCheckpoint(\"jena_lstm.keras\",\n",
    "                                    save_best_only=True)\n",
    "]\n",
    "model.compile(optimizer=\"rmsprop\", loss=\"mse\", metrics=[\"mae\"])\n",
    "history = model.fit(train_dataset,\n",
    "                    epochs=10,\n",
    "                    validation_data=val_dataset,\n",
    "                    callbacks=callbacks)\n",
    "\n",
    "model = keras.models.load_model(\"jena_lstm.keras\")\n",
    "print(f\"Test MAE: {model.evaluate(test_dataset)[1]:.2f}\")"
   ]
  },
  {
   "cell_type": "markdown",
   "metadata": {
    "colab_type": "text"
   },
   "source": [
    "## Understanding recurrent neural networks"
   ]
  },
  {
   "cell_type": "markdown",
   "metadata": {
    "colab_type": "text"
   },
   "source": [
    "**NumPy implementation of a simple RNN**"
   ]
  },
  {
   "cell_type": "code",
   "execution_count": 111,
   "metadata": {
    "colab_type": "code"
   },
   "outputs": [],
   "source": [
    "import numpy as np\n",
    "timesteps = 100\n",
    "input_features = 32\n",
    "output_features = 64\n",
    "inputs = np.random.random((timesteps, input_features))\n",
    "state_t = np.zeros((output_features,))\n",
    "W = np.random.random((output_features, input_features))\n",
    "U = np.random.random((output_features, output_features))\n",
    "b = np.random.random((output_features,))\n",
    "successive_outputs = []\n",
    "for input_t in inputs:\n",
    "    output_t = np.tanh(np.dot(W, input_t) + np.dot(U, state_t) + b)\n",
    "    successive_outputs.append(output_t)\n",
    "    state_t = output_t\n",
    "final_output_sequence = np.stack(successive_outputs, axis=0)"
   ]
  },
  {
   "cell_type": "markdown",
   "metadata": {
    "colab_type": "text"
   },
   "source": [
    "### A recurrent layer in Keras"
   ]
  },
  {
   "cell_type": "markdown",
   "metadata": {
    "colab_type": "text"
   },
   "source": [
    "**An RNN layer that can process sequences of any length**"
   ]
  },
  {
   "cell_type": "code",
   "execution_count": 112,
   "metadata": {
    "colab_type": "code"
   },
   "outputs": [],
   "source": [
    "num_features = 14\n",
    "inputs = keras.Input(shape=(None, num_features))\n",
    "outputs = layers.SimpleRNN(16)(inputs)"
   ]
  },
  {
   "cell_type": "markdown",
   "metadata": {
    "colab_type": "text"
   },
   "source": [
    "**An RNN layer that returns only its last output step**"
   ]
  },
  {
   "cell_type": "code",
   "execution_count": 113,
   "metadata": {
    "colab_type": "code"
   },
   "outputs": [
    {
     "name": "stdout",
     "output_type": "stream",
     "text": [
      "(None, 16)\n"
     ]
    }
   ],
   "source": [
    "num_features = 14\n",
    "steps = 120\n",
    "inputs = keras.Input(shape=(steps, num_features))\n",
    "outputs = layers.SimpleRNN(16, return_sequences=False)(inputs)\n",
    "print(outputs.shape)"
   ]
  },
  {
   "cell_type": "markdown",
   "metadata": {
    "colab_type": "text"
   },
   "source": [
    "**An RNN layer that returns its full output sequence**"
   ]
  },
  {
   "cell_type": "code",
   "execution_count": 114,
   "metadata": {
    "colab_type": "code"
   },
   "outputs": [
    {
     "name": "stdout",
     "output_type": "stream",
     "text": [
      "(None, 120, 16)\n"
     ]
    }
   ],
   "source": [
    "num_features = 14\n",
    "steps = 120\n",
    "inputs = keras.Input(shape=(steps, num_features))\n",
    "outputs = layers.SimpleRNN(16, return_sequences=True)(inputs)\n",
    "print(outputs.shape)"
   ]
  },
  {
   "cell_type": "markdown",
   "metadata": {
    "colab_type": "text"
   },
   "source": [
    "**Stacking RNN layers**"
   ]
  },
  {
   "cell_type": "code",
   "execution_count": 115,
   "metadata": {
    "colab_type": "code"
   },
   "outputs": [],
   "source": [
    "inputs = keras.Input(shape=(steps, num_features))\n",
    "x = layers.SimpleRNN(16, return_sequences=True)(inputs)\n",
    "x = layers.SimpleRNN(16, return_sequences=True)(x)\n",
    "outputs = layers.SimpleRNN(16)(x)"
   ]
  },
  {
   "cell_type": "markdown",
   "metadata": {
    "colab_type": "text"
   },
   "source": [
    "## Advanced use of recurrent neural networks"
   ]
  },
  {
   "cell_type": "markdown",
   "metadata": {
    "colab_type": "text"
   },
   "source": [
    "### Using recurrent dropout to fight overfitting"
   ]
  },
  {
   "cell_type": "markdown",
   "metadata": {
    "colab_type": "text"
   },
   "source": [
    "**Training and evaluating a dropout-regularized LSTM**"
   ]
  },
  {
   "cell_type": "code",
   "execution_count": 116,
   "metadata": {
    "colab_type": "code"
   },
   "outputs": [
    {
     "name": "stdout",
     "output_type": "stream",
     "text": [
      "Epoch 1/20\n",
      "819/819 [==============================] - 241s 292ms/step - loss: 0.1842 - mae: 0.3338 - val_loss: 0.1186 - val_mae: 0.2681\n",
      "Epoch 2/20\n",
      "819/819 [==============================] - 236s 288ms/step - loss: 0.1647 - mae: 0.3156 - val_loss: 0.1126 - val_mae: 0.2601\n",
      "Epoch 3/20\n",
      "819/819 [==============================] - 237s 289ms/step - loss: 0.1597 - mae: 0.3110 - val_loss: 0.1164 - val_mae: 0.2654\n",
      "Epoch 4/20\n",
      "819/819 [==============================] - 234s 285ms/step - loss: 0.1550 - mae: 0.3070 - val_loss: 0.1136 - val_mae: 0.2623\n",
      "Epoch 5/20\n",
      "819/819 [==============================] - 233s 285ms/step - loss: 0.1525 - mae: 0.3043 - val_loss: 0.1110 - val_mae: 0.2591\n",
      "Epoch 6/20\n",
      "819/819 [==============================] - 232s 283ms/step - loss: 0.1500 - mae: 0.3015 - val_loss: 0.1127 - val_mae: 0.2606\n",
      "Epoch 7/20\n",
      "819/819 [==============================] - 233s 284ms/step - loss: 0.1479 - mae: 0.2995 - val_loss: 0.1124 - val_mae: 0.2600\n",
      "Epoch 8/20\n",
      "819/819 [==============================] - 237s 289ms/step - loss: 0.1452 - mae: 0.2965 - val_loss: 0.1100 - val_mae: 0.2568\n",
      "Epoch 9/20\n",
      "819/819 [==============================] - 234s 285ms/step - loss: 0.1432 - mae: 0.2948 - val_loss: 0.1228 - val_mae: 0.2728\n",
      "Epoch 10/20\n",
      "819/819 [==============================] - 234s 286ms/step - loss: 0.1419 - mae: 0.2936 - val_loss: 0.1166 - val_mae: 0.2656\n",
      "Epoch 11/20\n",
      "819/819 [==============================] - 230s 280ms/step - loss: 0.1402 - mae: 0.2922 - val_loss: 0.1238 - val_mae: 0.2734\n",
      "Epoch 12/20\n",
      "819/819 [==============================] - 234s 286ms/step - loss: 0.1383 - mae: 0.2899 - val_loss: 0.1160 - val_mae: 0.2642\n",
      "Epoch 13/20\n",
      "819/819 [==============================] - 236s 288ms/step - loss: 0.1377 - mae: 0.2891 - val_loss: 0.1161 - val_mae: 0.2655\n",
      "Epoch 14/20\n",
      "819/819 [==============================] - 231s 282ms/step - loss: 0.1362 - mae: 0.2879 - val_loss: 0.1236 - val_mae: 0.2747\n",
      "Epoch 15/20\n",
      "819/819 [==============================] - 231s 282ms/step - loss: 0.1341 - mae: 0.2856 - val_loss: 0.1167 - val_mae: 0.2649\n",
      "Epoch 16/20\n",
      "819/819 [==============================] - 234s 286ms/step - loss: 0.1329 - mae: 0.2841 - val_loss: 0.1172 - val_mae: 0.2663\n",
      "Epoch 17/20\n",
      "819/819 [==============================] - 235s 287ms/step - loss: 0.1313 - mae: 0.2828 - val_loss: 0.1197 - val_mae: 0.2698\n",
      "Epoch 18/20\n",
      "819/819 [==============================] - 234s 285ms/step - loss: 0.1300 - mae: 0.2811 - val_loss: 0.1251 - val_mae: 0.2755\n",
      "Epoch 19/20\n",
      "819/819 [==============================] - 236s 288ms/step - loss: 0.1292 - mae: 0.2802 - val_loss: 0.1273 - val_mae: 0.2785\n",
      "Epoch 20/20\n",
      "819/819 [==============================] - 238s 290ms/step - loss: 0.1280 - mae: 0.2790 - val_loss: 0.1203 - val_mae: 0.2704\n"
     ]
    }
   ],
   "source": [
    "inputs = keras.Input(shape=(sequence_length, raw_data.shape[-1]))\n",
    "x = layers.LSTM(32, recurrent_dropout=0.25)(inputs)\n",
    "x = layers.Dropout(0.5)(x)\n",
    "outputs = layers.Dense(1)(x)\n",
    "model = keras.Model(inputs, outputs)\n",
    "\n",
    "callbacks = [\n",
    "    keras.callbacks.ModelCheckpoint(\"jena_lstm_dropout.keras\",\n",
    "                                    save_best_only=True)\n",
    "]\n",
    "model.compile(optimizer=\"rmsprop\", loss=\"mse\", metrics=[\"mae\"])\n",
    "history = model.fit(train_dataset,\n",
    "                    epochs=20,\n",
    "                    validation_data=val_dataset,\n",
    "                    callbacks=callbacks)"
   ]
  },
  {
   "cell_type": "code",
   "execution_count": 25,
   "metadata": {},
   "outputs": [],
   "source": [
    "#plt.plot(history.history['loss'])\n",
    "#plt.plot(history.history['val_loss'])\n",
    "#plt.title('model loss')\n",
    "#plt.ylabel('loss')\n",
    "#plt.xlabel('epoch')\n",
    "#plt.legend(['train', 'validation'], loc='upper left')\n",
    "#plt.show()"
   ]
  },
  {
   "cell_type": "code",
   "execution_count": 117,
   "metadata": {
    "colab_type": "code"
   },
   "outputs": [],
   "source": [
    "inputs = keras.Input(shape=(sequence_length, num_features))\n",
    "x = layers.LSTM(32, recurrent_dropout=0.2, unroll=True)(inputs)"
   ]
  },
  {
   "cell_type": "markdown",
   "metadata": {
    "colab_type": "text"
   },
   "source": [
    "### Stacking recurrent layers"
   ]
  },
  {
   "cell_type": "markdown",
   "metadata": {
    "colab_type": "text"
   },
   "source": [
    "**Training and evaluating a dropout-regularized, stacked GRU model**"
   ]
  },
  {
   "cell_type": "code",
   "execution_count": 21,
   "metadata": {
    "colab_type": "code"
   },
   "outputs": [
    {
     "name": "stdout",
     "output_type": "stream",
     "text": [
      "Epoch 1/20\n",
      "819/819 [==============================] - 266s 318ms/step - loss: 0.1934 - mae: 0.3389 - val_loss: 0.1241 - val_mae: 0.2759\n",
      "Epoch 2/20\n",
      "819/819 [==============================] - 281s 343ms/step - loss: 0.1618 - mae: 0.3135 - val_loss: 0.1236 - val_mae: 0.2756\n",
      "Epoch 3/20\n",
      "819/819 [==============================] - 264s 322ms/step - loss: 0.1573 - mae: 0.3084 - val_loss: 0.1115 - val_mae: 0.2594\n",
      "Epoch 4/20\n",
      "819/819 [==============================] - 257s 314ms/step - loss: 0.1521 - mae: 0.3036 - val_loss: 0.1103 - val_mae: 0.2572\n",
      "Epoch 5/20\n",
      "819/819 [==============================] - 257s 314ms/step - loss: 0.1483 - mae: 0.3003 - val_loss: 0.1178 - val_mae: 0.2667\n",
      "Epoch 6/20\n",
      "819/819 [==============================] - 258s 315ms/step - loss: 0.1438 - mae: 0.2961 - val_loss: 0.1215 - val_mae: 0.2713\n",
      "Epoch 7/20\n",
      "819/819 [==============================] - 263s 321ms/step - loss: 0.1399 - mae: 0.2921 - val_loss: 0.1162 - val_mae: 0.2643\n",
      "Epoch 8/20\n",
      "819/819 [==============================] - 260s 317ms/step - loss: 0.1368 - mae: 0.2889 - val_loss: 0.1138 - val_mae: 0.2614\n",
      "Epoch 9/20\n",
      "819/819 [==============================] - 259s 316ms/step - loss: 0.1340 - mae: 0.2855 - val_loss: 0.1155 - val_mae: 0.2636\n",
      "Epoch 10/20\n",
      "819/819 [==============================] - 266s 325ms/step - loss: 0.1315 - mae: 0.2831 - val_loss: 0.1230 - val_mae: 0.2730\n",
      "Epoch 11/20\n",
      "819/819 [==============================] - 268s 327ms/step - loss: 0.1294 - mae: 0.2803 - val_loss: 0.1224 - val_mae: 0.2720\n",
      "Epoch 12/20\n",
      "819/819 [==============================] - 266s 324ms/step - loss: 0.1280 - mae: 0.2791 - val_loss: 0.1249 - val_mae: 0.2749\n",
      "Epoch 13/20\n",
      "819/819 [==============================] - 263s 321ms/step - loss: 0.1254 - mae: 0.2759 - val_loss: 0.1246 - val_mae: 0.2733\n",
      "Epoch 14/20\n",
      "819/819 [==============================] - 263s 322ms/step - loss: 0.1236 - mae: 0.2739 - val_loss: 0.1288 - val_mae: 0.2786\n",
      "Epoch 15/20\n",
      "819/819 [==============================] - 263s 320ms/step - loss: 0.1219 - mae: 0.2725 - val_loss: 0.1236 - val_mae: 0.2718\n",
      "Epoch 16/20\n",
      "819/819 [==============================] - 259s 316ms/step - loss: 0.1206 - mae: 0.2707 - val_loss: 0.1259 - val_mae: 0.2747\n",
      "Epoch 17/20\n",
      "819/819 [==============================] - 265s 324ms/step - loss: 0.1187 - mae: 0.2689 - val_loss: 0.1301 - val_mae: 0.2804\n",
      "Epoch 18/20\n",
      "819/819 [==============================] - 262s 320ms/step - loss: 0.1172 - mae: 0.2670 - val_loss: 0.1356 - val_mae: 0.2850\n",
      "Epoch 19/20\n",
      "819/819 [==============================] - 259s 316ms/step - loss: 0.1160 - mae: 0.2656 - val_loss: 0.1339 - val_mae: 0.2853\n",
      "Epoch 20/20\n",
      "819/819 [==============================] - 262s 319ms/step - loss: 0.1149 - mae: 0.2643 - val_loss: 0.1329 - val_mae: 0.2829\n",
      "405/405 [==============================] - 27s 65ms/step - loss: 0.1250 - mae: 0.2760\n",
      "Test MAE: 0.28\n"
     ]
    }
   ],
   "source": [
    "inputs = keras.Input(shape=(sequence_length, raw_data.shape[-1]))\n",
    "x = layers.GRU(32, recurrent_dropout=0.5, return_sequences=True)(inputs)\n",
    "x = layers.GRU(32, recurrent_dropout=0.5)(x)\n",
    "x = layers.Dropout(0.5)(x)\n",
    "outputs = layers.Dense(1)(x)\n",
    "model = keras.Model(inputs, outputs)\n",
    "\n",
    "callbacks = [\n",
    "    keras.callbacks.ModelCheckpoint(\"jena_stacked_gru_dropout.keras\",\n",
    "                                    save_best_only=True)\n",
    "]\n",
    "model.compile(optimizer=\"rmsprop\", loss=\"mse\", metrics=[\"mae\"])\n",
    "history = model.fit(train_dataset,\n",
    "                    epochs=20,\n",
    "                    validation_data=val_dataset,\n",
    "                    callbacks=callbacks)\n",
    "model = keras.models.load_model(\"jena_stacked_gru_dropout.keras\")\n",
    "print(f\"Test MAE: {model.evaluate(test_dataset)[1]:.2f}\")"
   ]
  },
  {
   "cell_type": "markdown",
   "metadata": {
    "colab_type": "text"
   },
   "source": [
    "### Using bidirectional RNNs"
   ]
  },
  {
   "cell_type": "markdown",
   "metadata": {
    "colab_type": "text"
   },
   "source": [
    "**Training and evaluating a bidirectional LSTM**"
   ]
  },
  {
   "cell_type": "code",
   "execution_count": 22,
   "metadata": {
    "colab_type": "code"
   },
   "outputs": [
    {
     "name": "stdout",
     "output_type": "stream",
     "text": [
      "Epoch 1/10\n",
      "819/819 [==============================] - 116s 138ms/step - loss: 0.1585 - mae: 0.2973 - val_loss: 0.1190 - val_mae: 0.2655\n",
      "Epoch 2/10\n",
      "819/819 [==============================] - 121s 147ms/step - loss: 0.1025 - mae: 0.2512 - val_loss: 0.1249 - val_mae: 0.2731\n",
      "Epoch 3/10\n",
      "819/819 [==============================] - 131s 159ms/step - loss: 0.0895 - mae: 0.2347 - val_loss: 0.1327 - val_mae: 0.2833\n",
      "Epoch 4/10\n",
      "819/819 [==============================] - 124s 151ms/step - loss: 0.0817 - mae: 0.2241 - val_loss: 0.1335 - val_mae: 0.2850\n",
      "Epoch 5/10\n",
      "819/819 [==============================] - 119s 145ms/step - loss: 0.0763 - mae: 0.2165 - val_loss: 0.1399 - val_mae: 0.2904\n",
      "Epoch 6/10\n",
      "819/819 [==============================] - 118s 144ms/step - loss: 0.0721 - mae: 0.2104 - val_loss: 0.1436 - val_mae: 0.2949\n",
      "Epoch 7/10\n",
      "819/819 [==============================] - 165s 201ms/step - loss: 0.0682 - mae: 0.2045 - val_loss: 0.1501 - val_mae: 0.3016\n",
      "Epoch 8/10\n",
      "819/819 [==============================] - 181s 220ms/step - loss: 0.0650 - mae: 0.1997 - val_loss: 0.1524 - val_mae: 0.3037\n",
      "Epoch 9/10\n",
      "819/819 [==============================] - 172s 210ms/step - loss: 0.0623 - mae: 0.1956 - val_loss: 0.1562 - val_mae: 0.3068\n",
      "Epoch 10/10\n",
      "819/819 [==============================] - 129s 157ms/step - loss: 0.0601 - mae: 0.1920 - val_loss: 0.1634 - val_mae: 0.3156\n"
     ]
    }
   ],
   "source": [
    "inputs = keras.Input(shape=(sequence_length, raw_data.shape[-1]))\n",
    "x = layers.Bidirectional(layers.LSTM(16))(inputs)\n",
    "outputs = layers.Dense(1)(x)\n",
    "model = keras.Model(inputs, outputs)\n",
    "\n",
    "# Try 10 epochs to save time\n",
    "model.compile(optimizer=\"rmsprop\", loss=\"mse\", metrics=[\"mae\"])\n",
    "history = model.fit(train_dataset,\n",
    "                    epochs=10,\n",
    "                    validation_data=val_dataset)"
   ]
  },
  {
   "cell_type": "code",
   "execution_count": 23,
   "metadata": {},
   "outputs": [
    {
     "data": {
      "image/png": "[encoded data removed]",
      "text/plain": [
       "<Figure size 432x288 with 1 Axes>"
      ]
     },
     "metadata": {
      "needs_background": "light"
     },
     "output_type": "display_data"
    }
   ],
   "source": [
    "plt.plot(history.history['loss'])\n",
    "plt.plot(history.history['val_loss'])\n",
    "plt.title('model loss')\n",
    "plt.ylabel('loss')\n",
    "plt.xlabel('epoch')\n",
    "plt.legend(['train', 'validation'], loc='upper left')\n",
    "plt.show()"
   ]
  },
  {
   "cell_type": "markdown",
   "metadata": {
    "colab_type": "text"
   },
   "source": [
    "### Going even further"
   ]
  },
  {
   "cell_type": "markdown",
   "metadata": {
    "colab_type": "text"
   },
   "source": [
    "## Summary"
   ]
  }
 ],
 "metadata": {
  "colab": {
   "collapsed_sections": [],
   "name": "chapter10_dl-for-timeseries.i",
   "private_outputs": false,
   "provenance": [],
   "toc_visible": true
  },
  "kernelspec": {
   "display_name": "Python 3 (ipykernel)",
   "language": "python",
   "name": "python3"
  },
  "language_info": {
   "codemirror_mode": {
    "name": "ipython",
    "version": 3
   },
   "file_extension": ".py",
   "mimetype": "text/x-python",
   "name": "python",
   "nbconvert_exporter": "python",
   "pygments_lexer": "ipython3",
   "version": "3.9.13"
  }
 },
 "nbformat": 4,
 "nbformat_minor": 1
}
