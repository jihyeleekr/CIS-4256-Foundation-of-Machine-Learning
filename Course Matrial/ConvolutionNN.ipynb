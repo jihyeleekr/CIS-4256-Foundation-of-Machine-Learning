{
 "cells": [
  {
   "cell_type": "markdown",
   "id": "1453d73e",
   "metadata": {},
   "source": [
    "## Convolution Neural Network for Computer Vision"
   ]
  },
  {
   "cell_type": "markdown",
   "id": "52e10b68",
   "metadata": {},
   "source": [
    "#### Reference: Deep Learning with Python, 2nd Edition Chapter 8 or Chapter 5 of the 1st Edition"
   ]
  },
  {
   "cell_type": "code",
   "execution_count": 14,
   "id": "b9a51c3c",
   "metadata": {},
   "outputs": [],
   "source": [
    "import pandas as pd\n",
    "import numpy as np\n",
    "import matplotlib.pyplot as plt\n",
    "import seaborn as sns\n",
    "import warnings\n",
    "warnings.filterwarnings('ignore')"
   ]
  },
  {
   "cell_type": "code",
   "execution_count": 15,
   "id": "168bc77a",
   "metadata": {},
   "outputs": [],
   "source": [
    "from tensorflow import keras\n",
    "from tensorflow.keras import layers"
   ]
  },
  {
   "cell_type": "code",
   "execution_count": 16,
   "id": "3173dbde",
   "metadata": {},
   "outputs": [],
   "source": [
    "from tensorflow.keras.models import Sequential\n",
    "from tensorflow.keras.layers import BatchNormalization\n",
    "from tensorflow.keras.layers import Conv2D\n",
    "from tensorflow.keras.layers import MaxPooling2D\n",
    "from tensorflow.keras.layers import Activation\n",
    "from tensorflow.keras.layers import Dropout\n",
    "from tensorflow.keras.layers import Dense\n",
    "from tensorflow.keras.layers import Flatten\n",
    "from tensorflow.keras.layers import Input\n",
    "from tensorflow.keras.models import Model"
   ]
  },
  {
   "cell_type": "code",
   "execution_count": 17,
   "id": "e7167a70",
   "metadata": {},
   "outputs": [],
   "source": [
    "# define a small convent\n",
    "inputs = Input(shape=(28, 28, 1))\n",
    "\n",
    "x = inputs\n",
    "x = Conv2D(filters=32, kernel_size=3, activation=\"relu\")(x)\n",
    "x = MaxPooling2D(pool_size=2)(x)\n",
    "x = Dropout(0.8)(x)\n",
    "x = Conv2D(filters=32, kernel_size=3, activation=\"relu\")(x)\n",
    "x = MaxPooling2D(pool_size=2)(x)\n",
    "x = Conv2D(filters=32, kernel_size=3, activation=\"relu\")(x)\n",
    "x = MaxPooling2D(pool_size=2)(x)\n",
    "x = Dropout(0.5)(x)\n",
    "x = Flatten()(x)\n",
    "outputs = Dense(10, activation=\"softmax\")(x)\n",
    "model = Model(inputs=inputs, outputs=outputs)"
   ]
  },
  {
   "cell_type": "code",
   "execution_count": 18,
   "id": "b07153c2",
   "metadata": {},
   "outputs": [
    {
     "name": "stdout",
     "output_type": "stream",
     "text": [
      "Model: \"model_2\"\n",
      "_________________________________________________________________\n",
      " Layer (type)                Output Shape              Param #   \n",
      "=================================================================\n",
      " input_3 (InputLayer)        [(None, 28, 28, 1)]       0         \n",
      "                                                                 \n",
      " conv2d_6 (Conv2D)           (None, 26, 26, 32)        320       \n",
      "                                                                 \n",
      " max_pooling2d_3 (MaxPooling  (None, 13, 13, 32)       0         \n",
      " 2D)                                                             \n",
      "                                                                 \n",
      " conv2d_7 (Conv2D)           (None, 11, 11, 32)        9248      \n",
      "                                                                 \n",
      " max_pooling2d_4 (MaxPooling  (None, 5, 5, 32)         0         \n",
      " 2D)                                                             \n",
      "                                                                 \n",
      " conv2d_8 (Conv2D)           (None, 3, 3, 32)          9248      \n",
      "                                                                 \n",
      " max_pooling2d_5 (MaxPooling  (None, 1, 1, 32)         0         \n",
      " 2D)                                                             \n",
      "                                                                 \n",
      " flatten_2 (Flatten)         (None, 32)                0         \n",
      "                                                                 \n",
      " dense_2 (Dense)             (None, 10)                330       \n",
      "                                                                 \n",
      "=================================================================\n",
      "Total params: 19,146\n",
      "Trainable params: 19,146\n",
      "Non-trainable params: 0\n",
      "_________________________________________________________________\n"
     ]
    }
   ],
   "source": [
    "model.summary()"
   ]
  },
  {
   "cell_type": "code",
   "execution_count": 19,
   "id": "913c0469",
   "metadata": {},
   "outputs": [],
   "source": [
    "from keras.datasets import mnist"
   ]
  },
  {
   "cell_type": "code",
   "execution_count": 20,
   "id": "6133884f",
   "metadata": {},
   "outputs": [
    {
     "data": {
      "text/plain": [
       "(60000, 28, 28, 1)"
      ]
     },
     "execution_count": 20,
     "metadata": {},
     "output_type": "execute_result"
    }
   ],
   "source": [
    "(train_images, train_labels), (test_images, test_labels) = mnist.load_data()\n",
    "\n",
    "train_images = train_images.reshape((60000, 28, 28, 1))\n",
    "train_images = train_images.astype(\"float32\") / 255\n",
    "test_images = test_images.reshape((10000, 28, 28, 1))\n",
    "test_images = test_images.astype(\"float32\") / 255\n",
    "train_images.shape"
   ]
  },
  {
   "cell_type": "markdown",
   "id": "58fdebd0",
   "metadata": {},
   "source": [
    "### Build the model"
   ]
  },
  {
   "cell_type": "code",
   "execution_count": 21,
   "id": "08393a7a",
   "metadata": {},
   "outputs": [
    {
     "name": "stdout",
     "output_type": "stream",
     "text": [
      "Epoch 1/20\n",
      "750/750 [==============================] - 14s 18ms/step - loss: 0.3902 - accuracy: 0.8804 - val_loss: 0.1842 - val_accuracy: 0.9442\n",
      "Epoch 2/20\n",
      "750/750 [==============================] - 14s 19ms/step - loss: 0.1335 - accuracy: 0.9581 - val_loss: 0.0985 - val_accuracy: 0.9705\n",
      "Epoch 3/20\n",
      "750/750 [==============================] - 16s 21ms/step - loss: 0.0955 - accuracy: 0.9702 - val_loss: 0.1142 - val_accuracy: 0.9657\n",
      "Epoch 4/20\n",
      "750/750 [==============================] - 17s 22ms/step - loss: 0.0756 - accuracy: 0.9762 - val_loss: 0.0763 - val_accuracy: 0.9765\n",
      "Epoch 5/20\n",
      "750/750 [==============================] - 16s 22ms/step - loss: 0.0646 - accuracy: 0.9794 - val_loss: 0.0795 - val_accuracy: 0.9763\n",
      "Epoch 6/20\n",
      "750/750 [==============================] - 17s 23ms/step - loss: 0.0555 - accuracy: 0.9823 - val_loss: 0.0703 - val_accuracy: 0.9791\n",
      "Epoch 7/20\n",
      "750/750 [==============================] - 22s 30ms/step - loss: 0.0496 - accuracy: 0.9846 - val_loss: 0.0618 - val_accuracy: 0.9814\n",
      "Epoch 8/20\n",
      "750/750 [==============================] - 16s 21ms/step - loss: 0.0443 - accuracy: 0.9864 - val_loss: 0.0618 - val_accuracy: 0.9827\n",
      "Epoch 9/20\n",
      "750/750 [==============================] - 23s 31ms/step - loss: 0.0390 - accuracy: 0.9877 - val_loss: 0.0700 - val_accuracy: 0.9802\n",
      "Epoch 10/20\n",
      "750/750 [==============================] - 23s 30ms/step - loss: 0.0357 - accuracy: 0.9889 - val_loss: 0.0550 - val_accuracy: 0.9852\n",
      "Epoch 11/20\n",
      "750/750 [==============================] - 15s 20ms/step - loss: 0.0319 - accuracy: 0.9899 - val_loss: 0.0636 - val_accuracy: 0.9817\n",
      "Epoch 12/20\n",
      "750/750 [==============================] - 22s 29ms/step - loss: 0.0289 - accuracy: 0.9906 - val_loss: 0.0552 - val_accuracy: 0.9843\n",
      "Epoch 13/20\n",
      "750/750 [==============================] - 40s 54ms/step - loss: 0.0265 - accuracy: 0.9916 - val_loss: 0.0577 - val_accuracy: 0.9847\n",
      "Epoch 14/20\n",
      "750/750 [==============================] - 15s 20ms/step - loss: 0.0238 - accuracy: 0.9925 - val_loss: 0.0631 - val_accuracy: 0.9834\n",
      "Epoch 15/20\n",
      "750/750 [==============================] - 16s 21ms/step - loss: 0.0225 - accuracy: 0.9926 - val_loss: 0.0636 - val_accuracy: 0.9833\n",
      "Epoch 16/20\n",
      "750/750 [==============================] - 17s 23ms/step - loss: 0.0202 - accuracy: 0.9933 - val_loss: 0.0708 - val_accuracy: 0.9818\n",
      "Epoch 17/20\n",
      "750/750 [==============================] - 22s 29ms/step - loss: 0.0186 - accuracy: 0.9941 - val_loss: 0.0766 - val_accuracy: 0.9815\n",
      "Epoch 18/20\n",
      "750/750 [==============================] - 25s 33ms/step - loss: 0.0169 - accuracy: 0.9945 - val_loss: 0.0580 - val_accuracy: 0.9857\n",
      "Epoch 19/20\n",
      "750/750 [==============================] - 20s 26ms/step - loss: 0.0151 - accuracy: 0.9949 - val_loss: 0.0712 - val_accuracy: 0.9838\n",
      "Epoch 20/20\n",
      "750/750 [==============================] - 15s 20ms/step - loss: 0.0140 - accuracy: 0.9953 - val_loss: 0.0676 - val_accuracy: 0.9840\n"
     ]
    }
   ],
   "source": [
    "model.compile(optimizer=\"rmsprop\",\n",
    "    loss=\"sparse_categorical_crossentropy\",\n",
    "    metrics=[\"accuracy\"])\n",
    "\n",
    "# validation_split means spare 20% sample out of the input training dataset as validation dataset\n",
    "history = model.fit(train_images, train_labels, epochs=20, batch_size=64, validation_split = 0.2)"
   ]
  },
  {
   "cell_type": "code",
   "execution_count": null,
   "id": "8e1f3edd",
   "metadata": {},
   "outputs": [],
   "source": [
    "### Plot learning Curves"
   ]
  },
  {
   "cell_type": "code",
   "execution_count": 9,
   "id": "04ce2973",
   "metadata": {},
   "outputs": [
    {
     "data": {
      "image/png": "[encoded data removed]",
      "text/plain": [
       "<Figure size 640x480 with 1 Axes>"
      ]
     },
     "metadata": {},
     "output_type": "display_data"
    }
   ],
   "source": [
    "# summarize history for los\n",
    "plt.plot(history.history['loss'])\n",
    "plt.plot(history.history['val_loss'])\n",
    "plt.title('model loss')\n",
    "plt.ylabel('loss')\n",
    "plt.xlabel('epoch')\n",
    "plt.legend(['train', 'validation'], loc='upper left')\n",
    "plt.show()"
   ]
  },
  {
   "cell_type": "code",
   "execution_count": 10,
   "id": "932faf6c",
   "metadata": {},
   "outputs": [
    {
     "data": {
      "image/png": "[encoded data removed]",
      "text/plain": [
       "<Figure size 640x480 with 1 Axes>"
      ]
     },
     "metadata": {},
     "output_type": "display_data"
    }
   ],
   "source": [
    "# summarize history for accuracy\n",
    "plt.plot(history.history['accuracy'])\n",
    "plt.plot(history.history['val_accuracy'])\n",
    "plt.title('model accuracy')\n",
    "plt.ylabel('accuracy')\n",
    "plt.xlabel('epoch')\n",
    "plt.legend(['train', 'validation'], loc='upper left')\n",
    "plt.show()"
   ]
  },
  {
   "cell_type": "markdown",
   "id": "f1b10195",
   "metadata": {},
   "source": [
    "#### The validation error starts to increase after 9 epochs. So after 10 epoch, we are probably in an overfit situation"
   ]
  },
  {
   "cell_type": "code",
   "execution_count": null,
   "id": "856b593a",
   "metadata": {},
   "outputs": [],
   "source": [
    "### Evaluating the model out-of-sample"
   ]
  },
  {
   "cell_type": "code",
   "execution_count": 11,
   "id": "c08e7d37",
   "metadata": {},
   "outputs": [
    {
     "name": "stdout",
     "output_type": "stream",
     "text": [
      "313/313 [==============================] - 1s 4ms/step - loss: 0.0689 - accuracy: 0.9862\n",
      "Test accuracy: 0.986\n"
     ]
    }
   ],
   "source": [
    "test_loss, test_acc = model.evaluate(test_images, test_labels)\n",
    "print(f\"Test accuracy: {test_acc:.3f}\")"
   ]
  },
  {
   "cell_type": "markdown",
   "id": "daa649e5",
   "metadata": {},
   "source": [
    "***99% accuracy is wonderful***"
   ]
  },
  {
   "cell_type": "markdown",
   "id": "f883225e",
   "metadata": {},
   "source": [
    "### You should try different model, especially test what happens if you miss the MaxPooling"
   ]
  },
  {
   "cell_type": "code",
   "execution_count": 12,
   "id": "2f783af1",
   "metadata": {},
   "outputs": [
    {
     "name": "stdout",
     "output_type": "stream",
     "text": [
      "Model: \"model_1\"\n",
      "_________________________________________________________________\n",
      " Layer (type)                Output Shape              Param #   \n",
      "=================================================================\n",
      " input_2 (InputLayer)        [(None, 28, 28, 1)]       0         \n",
      "                                                                 \n",
      " conv2d_3 (Conv2D)           (None, 26, 26, 32)        320       \n",
      "                                                                 \n",
      " conv2d_4 (Conv2D)           (None, 24, 24, 64)        18496     \n",
      "                                                                 \n",
      " conv2d_5 (Conv2D)           (None, 22, 22, 128)       73856     \n",
      "                                                                 \n",
      " flatten_1 (Flatten)         (None, 61952)             0         \n",
      "                                                                 \n",
      " dense_1 (Dense)             (None, 10)                619530    \n",
      "                                                                 \n",
      "=================================================================\n",
      "Total params: 712,202\n",
      "Trainable params: 712,202\n",
      "Non-trainable params: 0\n",
      "_________________________________________________________________\n"
     ]
    }
   ],
   "source": [
    "# define a small convent\n",
    "inputs = Input(shape=(28, 28, 1))\n",
    "x = Conv2D(filters=32, kernel_size=3, activation=\"relu\")(inputs)\n",
    "x = Conv2D(filters=64, kernel_size=3, activation=\"relu\")(x)\n",
    "x = Conv2D(filters=128, kernel_size=3, activation=\"relu\")(x)\n",
    "x = Flatten()(x)\n",
    "outputs = Dense(10, activation=\"softmax\")(x)\n",
    "model2 = Model(inputs=inputs, outputs=outputs)\n",
    "model2.summary()"
   ]
  },
  {
   "cell_type": "code",
   "execution_count": 13,
   "id": "d587c719",
   "metadata": {},
   "outputs": [],
   "source": [
    "# warning: take a lot of time to run\n",
    "#model2.compile(optimizer=\"rmsprop\",\n",
    "#    loss=\"sparse_categorical_crossentropy\",\n",
    "#    metrics=[\"accuracy\"])\n",
    "#model2.fit(train_images, train_labels, epochs=5, batch_size=64)"
   ]
  },
  {
   "cell_type": "code",
   "execution_count": 14,
   "id": "35adf9f1",
   "metadata": {},
   "outputs": [],
   "source": [
    "#test_loss, test_acc = model.evaluate(test_images, test_labels)\n",
    "#print(f\"Test accuracy: {test_acc:.3f}\")"
   ]
  },
  {
   "cell_type": "code",
   "execution_count": null,
   "id": "375d7554",
   "metadata": {},
   "outputs": [],
   "source": []
  }
 ],
 "metadata": {
  "kernelspec": {
   "display_name": "Python 3 (ipykernel)",
   "language": "python",
   "name": "python3"
  },
  "language_info": {
   "codemirror_mode": {
    "name": "ipython",
    "version": 3
   },
   "file_extension": ".py",
   "mimetype": "text/x-python",
   "name": "python",
   "nbconvert_exporter": "python",
   "pygments_lexer": "ipython3",
   "version": "3.8.10"
  }
 },
 "nbformat": 4,
 "nbformat_minor": 5
}
